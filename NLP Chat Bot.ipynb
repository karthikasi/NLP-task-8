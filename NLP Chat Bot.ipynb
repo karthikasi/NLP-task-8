{
 "cells": [
  {
   "cell_type": "code",
   "execution_count": 51,
   "id": "c9bd38a4",
   "metadata": {},
   "outputs": [
    {
     "name": "stdout",
     "output_type": "stream",
     "text": [
      "Collecting speechrecognition\n",
      "  Using cached SpeechRecognition-3.8.1-py2.py3-none-any.whl (32.8 MB)\n",
      "Installing collected packages: speechrecognition\n",
      "Successfully installed speechrecognition-3.8.1\n"
     ]
    }
   ],
   "source": [
    "!pip install speechrecognition"
   ]
  },
  {
   "cell_type": "code",
   "execution_count": 52,
   "id": "c2e7c9fb",
   "metadata": {},
   "outputs": [
    {
     "name": "stdout",
     "output_type": "stream",
     "text": [
      "Collecting pyttsx3\n",
      "  Using cached pyttsx3-2.90-py3-none-any.whl (39 kB)\n",
      "Collecting pypiwin32\n",
      "  Using cached pypiwin32-223-py3-none-any.whl (1.7 kB)\n",
      "Requirement already satisfied: pywin32 in c:\\users\\acer\\anaconda3\\lib\\site-packages (from pyttsx3) (302)\n",
      "Requirement already satisfied: comtypes in c:\\users\\acer\\anaconda3\\lib\\site-packages (from pyttsx3) (1.1.10)\n",
      "Installing collected packages: pypiwin32, pyttsx3\n",
      "Successfully installed pypiwin32-223 pyttsx3-2.90\n"
     ]
    }
   ],
   "source": [
    "!pip install pyttsx3"
   ]
  },
  {
   "cell_type": "code",
   "execution_count": 54,
   "id": "30b438b1",
   "metadata": {},
   "outputs": [
    {
     "name": "stdout",
     "output_type": "stream",
     "text": [
      "Collecting pyaudio\n",
      "  Using cached PyAudio-0.2.12-cp39-cp39-win_amd64.whl (163 kB)\n",
      "Installing collected packages: pyaudio\n",
      "Successfully installed pyaudio-0.2.12\n"
     ]
    }
   ],
   "source": [
    "!pip install pyaudio"
   ]
  },
  {
   "cell_type": "code",
   "execution_count": null,
   "id": "98397bd3",
   "metadata": {},
   "outputs": [],
   "source": []
  },
  {
   "cell_type": "code",
   "execution_count": 13,
   "id": "6869796a",
   "metadata": {},
   "outputs": [],
   "source": [
    "import speech_recognition as sr\n",
    "import pyttsx3\n",
    "import pyaudio\n",
    "def SpeakText(command):\n",
    "     \n",
    "    # Initialize the engine\n",
    "    engine = pyttsx3.init()\n",
    "    engine.say(command)\n",
    "    engine.runAndWait()"
   ]
  },
  {
   "cell_type": "code",
   "execution_count": 31,
   "id": "913e9d96",
   "metadata": {},
   "outputs": [
    {
     "name": "stdout",
     "output_type": "stream",
     "text": [
      "my name is Karthik\n",
      "I am from Tamilnadu\n",
      "my mobile number is 5 4 3 2 1 8 9 9\n",
      "108 Kovilpatti\n",
      "I want to single bedroom I want a single bedroom\n",
      "bhai\n",
      "bye bye\n",
      "bye\n"
     ]
    }
   ],
   "source": [
    "import speech_recognition as sr\n",
    "\n",
    "\n",
    "SpeakText(\"\"\"\"Welcome To Hotel guvi, my name is Bot, Please listen this instruction carefully before give your information,   \n",
    "Please tell your full name, \n",
    "Phone Number ,\n",
    "       \n",
    "Address , \n",
    "ID Proof , \n",
    "Type of Room You want , \n",
    "correct Age in your ID proof , \n",
    "date of arrival ,   \n",
    "Departure date, \n",
    "NOTE Carefully:  please provide Proper Age,  If you are below  15,  Your are not aloowed to book rooms in our hotel \n",
    "as per our hotel guidelines , this bot booking complete,   after  your ID proof verification sucessfull and, also your payment \n",
    "       \"\"\")\n",
    "\n",
    "\n",
    "\n",
    "while True:\n",
    "    \n",
    "    r= sr.Recognizer()\n",
    "    with sr.Microphone() as source:\n",
    "        audio = r.listen(source)\n",
    "        \n",
    "        try:\n",
    "            filename = \"Customer_details.txt\"\n",
    "            f= open(filename, \"a+\")\n",
    "            recognized_text = r.recognize_google(audio)\n",
    "            print(recognized_text)\n",
    "            remainder = recognized_text.split()\n",
    "            SpeakText(recognized_text)\n",
    "            if recognized_text == \"bye\":\n",
    "                break\n",
    "            while remainder:\n",
    "                line, remainder= remainder[:10], remainder[10:]\n",
    "                f.write(' '.join(line) + \"\\n\")\n",
    "                \n",
    "                \n",
    "                \n",
    "                \n",
    "        except sr.UnknownValueError:\n",
    "            print(\"Google could not understand audio\")\n",
    "        except sr.RequestError as sr:\n",
    "            print(\"Google error: {0}\", format(e))"
   ]
  },
  {
   "cell_type": "code",
   "execution_count": null,
   "id": "f8438a7c",
   "metadata": {},
   "outputs": [],
   "source": []
  },
  {
   "cell_type": "code",
   "execution_count": null,
   "id": "ecb75057",
   "metadata": {},
   "outputs": [],
   "source": []
  },
  {
   "cell_type": "code",
   "execution_count": null,
   "id": "d772cdc6",
   "metadata": {},
   "outputs": [],
   "source": []
  },
  {
   "cell_type": "code",
   "execution_count": null,
   "id": "5b0cbfe0",
   "metadata": {},
   "outputs": [],
   "source": []
  },
  {
   "cell_type": "code",
   "execution_count": null,
   "id": "2c71d1d2",
   "metadata": {},
   "outputs": [],
   "source": []
  },
  {
   "cell_type": "code",
   "execution_count": null,
   "id": "4ed6c377",
   "metadata": {},
   "outputs": [],
   "source": []
  },
  {
   "cell_type": "code",
   "execution_count": null,
   "id": "ca2d3ba5",
   "metadata": {},
   "outputs": [],
   "source": []
  }
 ],
 "metadata": {
  "kernelspec": {
   "display_name": "Python 3 (ipykernel)",
   "language": "python",
   "name": "python3"
  },
  "language_info": {
   "codemirror_mode": {
    "name": "ipython",
    "version": 3
   },
   "file_extension": ".py",
   "mimetype": "text/x-python",
   "name": "python",
   "nbconvert_exporter": "python",
   "pygments_lexer": "ipython3",
   "version": "3.9.13"
  }
 },
 "nbformat": 4,
 "nbformat_minor": 5
}
